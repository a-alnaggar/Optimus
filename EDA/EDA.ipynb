{
 "cells": [
  {
   "cell_type": "code",
   "execution_count": 1,
   "id": "d3fc78b0-5796-4209-85c4-b0028c2dc11d",
   "metadata": {
    "ExecuteTime": {
     "end_time": "2023-08-05T22:05:23.856965366Z",
     "start_time": "2023-08-05T22:05:22.952435145Z"
    }
   },
   "outputs": [
    {
     "data": {
      "text/html": [
       "<style>pre { white-space: pre !important; }</style>"
      ],
      "text/plain": [
       "<IPython.core.display.HTML object>"
      ]
     },
     "metadata": {},
     "output_type": "display_data"
    }
   ],
   "source": [
    "import string\n",
    "import re\n",
    "import nltk\n",
    "import pandas as pd\n",
    "import ipywidgets as widgets\n",
    "\n",
    "from nltk.corpus import stopwords\n",
    "import matplotlib.pyplot as plt\n",
    "from wordcloud import WordCloud\n",
    "\n",
    "from ipywidgets import interact\n",
    "from IPython.display import display, HTML\n",
    "\n",
    "display(HTML(\"<style>pre { white-space: pre !important; }</style>\"))\n",
    "pd.set_option('display.max_columns', None)"
   ]
  },
  {
   "cell_type": "code",
   "execution_count": 49,
   "id": "59288d6f-1754-4571-97c2-dacdc873ec26",
   "metadata": {
    "ExecuteTime": {
     "end_time": "2023-08-06T21:12:02.320685385Z",
     "start_time": "2023-08-06T21:12:02.303809323Z"
    }
   },
   "outputs": [],
   "source": [
    "eg_tweets = pd.read_csv(\n",
    "    '/home/naggar/repos/twitter_accounts_analysis/data/egypt_tweets_2020/egypt_022020_tweets_csv_hashed.csv', \n",
    "    chunksize=1000000, \n",
    "    encoding='utf-8'\n",
    ")"
   ]
  },
  {
   "cell_type": "code",
   "execution_count": null,
   "id": "9f136a77-c3a2-42ff-acd3-35c29d962c75",
   "metadata": {
    "scrolled": true
   },
   "outputs": [],
   "source": [
    "user_groups = []\n",
    "\n",
    "# Group tweets by user for further analysis\n",
    "for chunk in eg_tweets:\n",
    "    \n",
    "    group = chunk.groupby(['userid'])\n",
    "    user_groups.append(group)\n",
    "    \n",
    "    del group\n",
    "\n",
    "print(user_groups)"
   ]
  },
  {
   "cell_type": "code",
   "execution_count": 42,
   "id": "08d3836d-52a8-4d68-ba62-2a43367dc6f6",
   "metadata": {},
   "outputs": [],
   "source": [
    "# Create a series of counts of retweets per user\n",
    "user_ids = [group['is_retweet'].sum() for group in user_groups]"
   ]
  },
  {
   "cell_type": "code",
   "execution_count": 45,
   "id": "4a38c32e-69b8-4221-949a-bc6d57437750",
   "metadata": {},
   "outputs": [],
   "source": [
    "retweet_per_user = pd.concat(user_ids)\n",
    "retweet_per_user = retweet_per_user.groupby('userid').sum()\n",
    "retweet_per_user = retweet_per_user.sort_values(ascending=False)"
   ]
  },
  {
   "cell_type": "code",
   "execution_count": 51,
   "id": "8c5c2ff8-f8ee-4882-aa22-3a3ea3229e94",
   "metadata": {},
   "outputs": [],
   "source": [
    "retweet_per_user.to_json(\"reweets_count_per_account.json\")"
   ]
  },
  {
   "cell_type": "code",
   "execution_count": 5,
   "id": "8ef92049ef952eb3",
   "metadata": {
    "ExecuteTime": {
     "end_time": "2023-08-05T22:12:14.641020942Z",
     "start_time": "2023-08-05T22:12:14.600018788Z"
    },
    "collapsed": false,
    "jupyter": {
     "outputs_hidden": false
    }
   },
   "outputs": [],
   "source": [
    "def check_str(chunk):\n",
    "    if 'CTky7SvC51cUfDgM9ljMTPhcc2HcH84VC5ivPh+w5hM=' in chunk['tweet_text'].values:\n",
    "        print(\"here\")"
   ]
  },
  {
   "cell_type": "code",
   "execution_count": null,
   "id": "20635d9c-658e-4a21-a242-2b25043f6616",
   "metadata": {},
   "outputs": [],
   "source": [
    "agg_freqs = pd.Series(dtype=int)"
   ]
  },
  {
   "cell_type": "code",
   "execution_count": 3,
   "id": "b03e8c9a-a04a-4915-874f-3a5e4f5b7946",
   "metadata": {},
   "outputs": [],
   "source": [
    "# Function to remove punctuation from the text\n",
    "def remove_punctuation(text):\n",
    "    \"\"\"\n",
    "    Remove punctuation from text.\n",
    "    \"\"\"\n",
    "    translator = str.maketrans('', '', string.punctuation)\n",
    "    return text.translate(translator)\n",
    "\n",
    "# Function to read Arabic stop words from a TXT file\n",
    "def read_arabic_stop_words(file_path):\n",
    "    with open(file_path, 'r', encoding='utf-8') as file:\n",
    "        stop_words = {word.strip() for word in file}\n",
    "    return stop_words\n",
    "\n",
    "def preprocess_arabic_text(text):\n",
    "    \"\"\"\n",
    "    Preprocessing pipeline for arabic text.\n",
    "    remove punctuation -> normalize letters -> tokenize -> omit stopwords\n",
    "    \"\"\"\n",
    "    \n",
    "    # Remove punctuation\n",
    "    text = remove_punctuation(text)\n",
    "\n",
    "    # Normalize Arabic characters (optional, depends on the use case)\n",
    "    text = re.sub(\"[إأآا]\", \"ا\", text)\n",
    "    text = re.sub(\"ى\", \"ي\", text)\n",
    "    text = re.sub(\"ؤ\", \"ء\", text)\n",
    "    text = re.sub(\"ئ\", \"ء\", text)\n",
    "    # text = re.sub(\"[^\\u0600-\\u06FF\\s]\", \"\", text)\n",
    "    text = re.sub(\"[^\\u0600-\\u06FF\\u0660-\\u0669\\u06F0-\\u06F9\\u0020-\\u007E]\", \"\", text)\n",
    "    text = re.sub(r'(\\w)[{0}]+(\\w)'.format(string.punctuation), r'\\1 \\2', text)\n",
    "\n",
    "    # Tokenize the text into words (optional, depends on the use case)\n",
    "    words = nltk.word_tokenize(text)\n",
    "\n",
    "    english_stop_words = set(stopwords.words('english'))\n",
    "        \n",
    "    # Load Arabic stop words\n",
    "    arabic_stop_words = read_arabic_stop_words('data/stop_words_arabic.txt')\n",
    "\n",
    "    # Combine both stop word sets\n",
    "    stop_words = arabic_stop_words.union(english_stop_words)\n",
    "\n",
    "    # Filter out stop words\n",
    "    filtered_words = [word for word in words if word.lower() not in stop_words and len(word) > 1]\n",
    "\n",
    "    # Join the filtered words back into a single string\n",
    "    cleaned_text = ' '.join(filtered_words)\n",
    "\n",
    "    return cleaned_text\n",
    "\n",
    "\n",
    "def get_count(chunk):\n",
    "    \"\"\"\n",
    "    Applies preprocessing function and get word count.\n",
    "    \"\"\"\n",
    "    # Apply Arabic text preprocessing to the 'tweet_text'\n",
    "    chunk['cleaned_text'] = chunk['tweet_text'].apply(preprocess_arabic_text)\n",
    "\n",
    "    # Perform word frequency analysis on cleaned text\n",
    "    word_freq = chunk['cleaned_text'].str.split(expand=True).stack().value_counts()\n",
    "    return word_freq\n"
   ]
  },
  {
   "cell_type": "code",
   "execution_count": null,
   "id": "1db7fd1e-b828-47c1-b7d4-d285a2c738d7",
   "metadata": {},
   "outputs": [],
   "source": [
    "for i, chunk in enumerate(eg_tweets, start=1):\n",
    "    # Apply the processing code to the current chunk\n",
    "    word_freq_chunk = get_count(chunk)\n",
    "\n",
    "    # Update the overall word frequency with the current chunk's word frequency\n",
    "    agg_freqs = agg_freqs.add(word_freq_chunk, fill_value=0)\n",
    "\n",
    "    # Free up memory after processing the chunk\n",
    "    del word_freq_chunk\n",
    "\n",
    "    print(f\"Processed Chunk {i}\")\n",
    "\n",
    "# The overall_word_freq now contains the word frequency across all chunks\n",
    "print(agg_freqs)"
   ]
  },
  {
   "cell_type": "code",
   "execution_count": null,
   "id": "d54ab797-9b55-4745-83cd-8f986b5dae5d",
   "metadata": {},
   "outputs": [],
   "source": [
    "agg_freqs = agg_freqs.sort_values(ascending=False)"
   ]
  },
  {
   "cell_type": "code",
   "execution_count": null,
   "id": "1ae79bae-4de6-4de4-bc57-bc568033d3c2",
   "metadata": {},
   "outputs": [],
   "source": [
    "agg_freqs.to_json('word_counts.json')"
   ]
  },
  {
   "cell_type": "code",
   "execution_count": 40,
   "id": "f466aa3d-7a5c-4067-a219-4ca6cc663c06",
   "metadata": {},
   "outputs": [
    {
     "data": {
      "application/vnd.jupyter.widget-view+json": {
       "model_id": "6b2e2634b5eb46f1a96ef6611ec4e668",
       "version_major": 2,
       "version_minor": 0
      },
      "text/plain": [
       "interactive(children=(IntSlider(value=10, description='Num Words', min=5), Output()), _dom_classes=('widget-in…"
      ]
     },
     "metadata": {},
     "output_type": "display_data"
    }
   ],
   "source": [
    "@interact(num_words=widgets.IntSlider(min=5, max=100, step=1, value=10, description='Num Words'))\n",
    "def plot_wordcloud(num_words):\n",
    "    top_words = agg_freqs.head(num_words)\n",
    "    arabic_wordcloud = WordCloud(\n",
    "        width=800,\n",
    "        height=400,\n",
    "        background_color='white',\n",
    "        font_path='/home/naggar/repos/twitter_accounts_analysis/data/fonts/Cairo/static/Cairo-Medium.ttf'\n",
    "    )\n",
    "    print(top_words.index)\n",
    "    arabic_text = ' '.join(top_words.index)\n",
    "    arabic_wordcloud.generate(arabic_text)\n",
    "    \n",
    "    plt.figure(figsize=(10, 5))\n",
    "    plt.imshow(arabic_wordcloud, interpolation='bilinear')\n",
    "    plt.axis('off')\n",
    "    plt.show()"
   ]
  },
  {
   "cell_type": "code",
   "execution_count": 2,
   "id": "6b87db5e-41c9-4a61-a5bb-20dab426cdd7",
   "metadata": {},
   "outputs": [],
   "source": [
    "import plotly.express as px\n",
    "\n",
    "agg_freqs = pd.read_json('word_counts.json', typ='series')\n",
    "agg_freqs = agg_freqs.drop('RT')"
   ]
  },
  {
   "cell_type": "code",
   "execution_count": 5,
   "id": "60b42f09-eeff-4c64-a4e1-16850a5002f2",
   "metadata": {},
   "outputs": [
    {
     "data": {
      "application/vnd.jupyter.widget-view+json": {
       "model_id": "73eaabf46b3b4052b62a0c26dc27bdf2",
       "version_major": 2,
       "version_minor": 0
      },
      "text/plain": [
       "interactive(children=(IntSlider(value=10, description='Num Words', min=5), Output()), _dom_classes=('widget-in…"
      ]
     },
     "metadata": {},
     "output_type": "display_data"
    }
   ],
   "source": [
    "@interact(num_words=widgets.IntSlider(min=5, max=100, step=1, value=10, description='Num Words'))\n",
    "def interactive_bar_chart(num_words):\n",
    "    \n",
    "    top_hundred_words = agg_freqs.head(num_words).reset_index()\n",
    "    top_hundred_words.columns = ['Word', 'Count']\n",
    "    fig = px.bar(top_hundred_words, x='Word', y='Count', color='Count', text='Word', labels={'Count': 'Counts'},\n",
    "             title='Top 100 Words and Their Counts')\n",
    "    fig.update_traces(texttemplate='%{text}', textposition='outside')\n",
    "    fig.update_layout(xaxis_title='Words', yaxis_title='Counts', xaxis_tickangle=-45,\n",
    "                      xaxis_tickfont=dict(size=12), yaxis_tickfont=dict(size=12),\n",
    "                      title_font=dict(size=16))\n",
    "    fig.show()"
   ]
  },
  {
   "cell_type": "code",
   "execution_count": null,
   "id": "d7849d9f-02f6-4f08-b45f-a2ec6a78f510",
   "metadata": {},
   "outputs": [],
   "source": [
    "retweets_freqs = pd.read_json('reweets_count_per_account.json', typ='series')\n",
    "eg_accounts = pd.read_csv('data/hashed_2020_04_egypt_022020_egypt_022020_users_csv_hashed/egypt_022020_users_csv_hashed.csv')"
   ]
  },
  {
   "cell_type": "code",
   "execution_count": 34,
   "id": "d08dcc80-b61b-4346-972d-e356142498da",
   "metadata": {
    "scrolled": true
   },
   "outputs": [
    {
     "data": {
      "text/html": [
       "<div>\n",
       "<style scoped>\n",
       "    .dataframe tbody tr th:only-of-type {\n",
       "        vertical-align: middle;\n",
       "    }\n",
       "\n",
       "    .dataframe tbody tr th {\n",
       "        vertical-align: top;\n",
       "    }\n",
       "\n",
       "    .dataframe thead th {\n",
       "        text-align: right;\n",
       "    }\n",
       "</style>\n",
       "<table border=\"1\" class=\"dataframe\">\n",
       "  <thead>\n",
       "    <tr style=\"text-align: right;\">\n",
       "      <th></th>\n",
       "      <th>userid</th>\n",
       "      <th>retweets_count</th>\n",
       "      <th>user_display_name</th>\n",
       "      <th>user_screen_name</th>\n",
       "      <th>user_reported_location</th>\n",
       "      <th>user_profile_description</th>\n",
       "      <th>user_profile_url</th>\n",
       "      <th>follower_count</th>\n",
       "      <th>following_count</th>\n",
       "      <th>account_creation_date</th>\n",
       "      <th>account_language</th>\n",
       "    </tr>\n",
       "  </thead>\n",
       "  <tbody>\n",
       "    <tr>\n",
       "      <th>0</th>\n",
       "      <td>3587272518</td>\n",
       "      <td>189460</td>\n",
       "      <td>💛Smile💛</td>\n",
       "      <td>aboal3enen</td>\n",
       "      <td>فعلو التنبيهات 🔔</td>\n",
       "      <td>No Dm pls💛\\nHijab Model💛\\nI love moon💛</td>\n",
       "      <td>NaN</td>\n",
       "      <td>118186</td>\n",
       "      <td>55360</td>\n",
       "      <td>2015-09-16</td>\n",
       "      <td>en</td>\n",
       "    </tr>\n",
       "    <tr>\n",
       "      <th>1</th>\n",
       "      <td>869891243999887360</td>\n",
       "      <td>172105</td>\n",
       "      <td>دعاء طارق⁦🇪🇬⁩</td>\n",
       "      <td>DodoTickoo1</td>\n",
       "      <td>NaN</td>\n",
       "      <td>‏‏‏‏مصرية سيساوية ومتجوزة واسكندرانية على منوف...</td>\n",
       "      <td>NaN</td>\n",
       "      <td>23279</td>\n",
       "      <td>1573</td>\n",
       "      <td>2017-05-31</td>\n",
       "      <td>en</td>\n",
       "    </tr>\n",
       "    <tr>\n",
       "      <th>2</th>\n",
       "      <td>1664006540</td>\n",
       "      <td>128649</td>\n",
       "      <td>الكايد 🇰🇼</td>\n",
       "      <td>alkad37</td>\n",
       "      <td>NaN</td>\n",
       "      <td>إن مزحنا لأجل تخفيف الطعون ابتلشنا فالصدور الض...</td>\n",
       "      <td>NaN</td>\n",
       "      <td>407280</td>\n",
       "      <td>372096</td>\n",
       "      <td>2013-08-12</td>\n",
       "      <td>en</td>\n",
       "    </tr>\n",
       "    <tr>\n",
       "      <th>3</th>\n",
       "      <td>847791625673822208</td>\n",
       "      <td>127214</td>\n",
       "      <td>خدمة اخبارك الكويتية</td>\n",
       "      <td>akhbarkkw</td>\n",
       "      <td>دولة الكويت</td>\n",
       "      <td>نقدم لكم اخبار كويتية لحظة بلحظة ، واخبار خليج...</td>\n",
       "      <td>NaN</td>\n",
       "      <td>297882</td>\n",
       "      <td>235494</td>\n",
       "      <td>2017-03-31</td>\n",
       "      <td>en</td>\n",
       "    </tr>\n",
       "    <tr>\n",
       "      <th>4</th>\n",
       "      <td>azuf3RmznMPoQqkpW8WMgWA9SHn1WskzUVEvzeX8+Ac=</td>\n",
       "      <td>98904</td>\n",
       "      <td>azuf3RmznMPoQqkpW8WMgWA9SHn1WskzUVEvzeX8+Ac=</td>\n",
       "      <td>azuf3RmznMPoQqkpW8WMgWA9SHn1WskzUVEvzeX8+Ac=</td>\n",
       "      <td>Bulgaria</td>\n",
       "      <td>NaN</td>\n",
       "      <td>NaN</td>\n",
       "      <td>168</td>\n",
       "      <td>634</td>\n",
       "      <td>2012-03-10</td>\n",
       "      <td>bg</td>\n",
       "    </tr>\n",
       "    <tr>\n",
       "      <th>...</th>\n",
       "      <td>...</td>\n",
       "      <td>...</td>\n",
       "      <td>...</td>\n",
       "      <td>...</td>\n",
       "      <td>...</td>\n",
       "      <td>...</td>\n",
       "      <td>...</td>\n",
       "      <td>...</td>\n",
       "      <td>...</td>\n",
       "      <td>...</td>\n",
       "      <td>...</td>\n",
       "    </tr>\n",
       "    <tr>\n",
       "      <th>2167</th>\n",
       "      <td>5doKfeSTFdEbWFm5b6vGRX8ZLNQpgUpeZHhVt+5Vjpc=</td>\n",
       "      <td>0</td>\n",
       "      <td>5doKfeSTFdEbWFm5b6vGRX8ZLNQpgUpeZHhVt+5Vjpc=</td>\n",
       "      <td>5doKfeSTFdEbWFm5b6vGRX8ZLNQpgUpeZHhVt+5Vjpc=</td>\n",
       "      <td>NaN</td>\n",
       "      <td>NaN</td>\n",
       "      <td>NaN</td>\n",
       "      <td>2</td>\n",
       "      <td>17</td>\n",
       "      <td>2018-07-23</td>\n",
       "      <td>en</td>\n",
       "    </tr>\n",
       "    <tr>\n",
       "      <th>2168</th>\n",
       "      <td>KviHxnDICK1vOMenfyq3CYsAoE8faBK9ln8ZI+p6lSo=</td>\n",
       "      <td>0</td>\n",
       "      <td>KviHxnDICK1vOMenfyq3CYsAoE8faBK9ln8ZI+p6lSo=</td>\n",
       "      <td>KviHxnDICK1vOMenfyq3CYsAoE8faBK9ln8ZI+p6lSo=</td>\n",
       "      <td>NaN</td>\n",
       "      <td>NaN</td>\n",
       "      <td>NaN</td>\n",
       "      <td>0</td>\n",
       "      <td>1</td>\n",
       "      <td>2011-07-14</td>\n",
       "      <td>en</td>\n",
       "    </tr>\n",
       "    <tr>\n",
       "      <th>2169</th>\n",
       "      <td>L00zQb4B0O2rJ6loEPIGQrJmjWLtOw2Z0aPiF7qJVE=</td>\n",
       "      <td>0</td>\n",
       "      <td>L00zQb4B0O2rJ6loEPIGQrJmjWLtOw2Z0aPiF7qJVE=</td>\n",
       "      <td>L00zQb4B0O2rJ6loEPIGQrJmjWLtOw2Z0aPiF7qJVE=</td>\n",
       "      <td>NaN</td>\n",
       "      <td>NaN</td>\n",
       "      <td>NaN</td>\n",
       "      <td>0</td>\n",
       "      <td>27</td>\n",
       "      <td>2014-07-26</td>\n",
       "      <td>mk</td>\n",
       "    </tr>\n",
       "    <tr>\n",
       "      <th>2170</th>\n",
       "      <td>5DMDc0CGlUDOajnFfP6BtbfbAinVYWXfI6fdR3NX15Y=</td>\n",
       "      <td>0</td>\n",
       "      <td>5DMDc0CGlUDOajnFfP6BtbfbAinVYWXfI6fdR3NX15Y=</td>\n",
       "      <td>5DMDc0CGlUDOajnFfP6BtbfbAinVYWXfI6fdR3NX15Y=</td>\n",
       "      <td>NaN</td>\n",
       "      <td>NaN</td>\n",
       "      <td>NaN</td>\n",
       "      <td>0</td>\n",
       "      <td>0</td>\n",
       "      <td>2018-06-27</td>\n",
       "      <td>en</td>\n",
       "    </tr>\n",
       "    <tr>\n",
       "      <th>2171</th>\n",
       "      <td>I5fqrN4YICuV+O4GQhKsyljNNjt1hhYSJcX8roLzIgU=</td>\n",
       "      <td>0</td>\n",
       "      <td>I5fqrN4YICuV+O4GQhKsyljNNjt1hhYSJcX8roLzIgU=</td>\n",
       "      <td>I5fqrN4YICuV+O4GQhKsyljNNjt1hhYSJcX8roLzIgU=</td>\n",
       "      <td>NaN</td>\n",
       "      <td>NaN</td>\n",
       "      <td>NaN</td>\n",
       "      <td>17</td>\n",
       "      <td>20</td>\n",
       "      <td>2009-08-21</td>\n",
       "      <td>en</td>\n",
       "    </tr>\n",
       "  </tbody>\n",
       "</table>\n",
       "<p>2172 rows × 11 columns</p>\n",
       "</div>"
      ],
      "text/plain": [
       "                                            userid  retweets_count  \\\n",
       "0                                       3587272518          189460   \n",
       "1                               869891243999887360          172105   \n",
       "2                                       1664006540          128649   \n",
       "3                               847791625673822208          127214   \n",
       "4     azuf3RmznMPoQqkpW8WMgWA9SHn1WskzUVEvzeX8+Ac=           98904   \n",
       "...                                            ...             ...   \n",
       "2167  5doKfeSTFdEbWFm5b6vGRX8ZLNQpgUpeZHhVt+5Vjpc=               0   \n",
       "2168  KviHxnDICK1vOMenfyq3CYsAoE8faBK9ln8ZI+p6lSo=               0   \n",
       "2169   L00zQb4B0O2rJ6loEPIGQrJmjWLtOw2Z0aPiF7qJVE=               0   \n",
       "2170  5DMDc0CGlUDOajnFfP6BtbfbAinVYWXfI6fdR3NX15Y=               0   \n",
       "2171  I5fqrN4YICuV+O4GQhKsyljNNjt1hhYSJcX8roLzIgU=               0   \n",
       "\n",
       "                                 user_display_name  \\\n",
       "0                                          💛Smile💛   \n",
       "1                                    دعاء طارق⁦🇪🇬⁩   \n",
       "2                                        الكايد 🇰🇼   \n",
       "3                             خدمة اخبارك الكويتية   \n",
       "4     azuf3RmznMPoQqkpW8WMgWA9SHn1WskzUVEvzeX8+Ac=   \n",
       "...                                            ...   \n",
       "2167  5doKfeSTFdEbWFm5b6vGRX8ZLNQpgUpeZHhVt+5Vjpc=   \n",
       "2168  KviHxnDICK1vOMenfyq3CYsAoE8faBK9ln8ZI+p6lSo=   \n",
       "2169   L00zQb4B0O2rJ6loEPIGQrJmjWLtOw2Z0aPiF7qJVE=   \n",
       "2170  5DMDc0CGlUDOajnFfP6BtbfbAinVYWXfI6fdR3NX15Y=   \n",
       "2171  I5fqrN4YICuV+O4GQhKsyljNNjt1hhYSJcX8roLzIgU=   \n",
       "\n",
       "                                  user_screen_name user_reported_location  \\\n",
       "0                                       aboal3enen       فعلو التنبيهات 🔔   \n",
       "1                                      DodoTickoo1                    NaN   \n",
       "2                                          alkad37                    NaN   \n",
       "3                                        akhbarkkw            دولة الكويت   \n",
       "4     azuf3RmznMPoQqkpW8WMgWA9SHn1WskzUVEvzeX8+Ac=               Bulgaria   \n",
       "...                                            ...                    ...   \n",
       "2167  5doKfeSTFdEbWFm5b6vGRX8ZLNQpgUpeZHhVt+5Vjpc=                    NaN   \n",
       "2168  KviHxnDICK1vOMenfyq3CYsAoE8faBK9ln8ZI+p6lSo=                    NaN   \n",
       "2169   L00zQb4B0O2rJ6loEPIGQrJmjWLtOw2Z0aPiF7qJVE=                    NaN   \n",
       "2170  5DMDc0CGlUDOajnFfP6BtbfbAinVYWXfI6fdR3NX15Y=                    NaN   \n",
       "2171  I5fqrN4YICuV+O4GQhKsyljNNjt1hhYSJcX8roLzIgU=                    NaN   \n",
       "\n",
       "                               user_profile_description user_profile_url  \\\n",
       "0                No Dm pls💛\\nHijab Model💛\\nI love moon💛              NaN   \n",
       "1     ‏‏‏‏مصرية سيساوية ومتجوزة واسكندرانية على منوف...              NaN   \n",
       "2     إن مزحنا لأجل تخفيف الطعون ابتلشنا فالصدور الض...              NaN   \n",
       "3     نقدم لكم اخبار كويتية لحظة بلحظة ، واخبار خليج...              NaN   \n",
       "4                                                   NaN              NaN   \n",
       "...                                                 ...              ...   \n",
       "2167                                                NaN              NaN   \n",
       "2168                                                NaN              NaN   \n",
       "2169                                                NaN              NaN   \n",
       "2170                                                NaN              NaN   \n",
       "2171                                                NaN              NaN   \n",
       "\n",
       "      follower_count  following_count account_creation_date account_language  \n",
       "0             118186            55360            2015-09-16               en  \n",
       "1              23279             1573            2017-05-31               en  \n",
       "2             407280           372096            2013-08-12               en  \n",
       "3             297882           235494            2017-03-31               en  \n",
       "4                168              634            2012-03-10               bg  \n",
       "...              ...              ...                   ...              ...  \n",
       "2167               2               17            2018-07-23               en  \n",
       "2168               0                1            2011-07-14               en  \n",
       "2169               0               27            2014-07-26               mk  \n",
       "2170               0                0            2018-06-27               en  \n",
       "2171              17               20            2009-08-21               en  \n",
       "\n",
       "[2172 rows x 11 columns]"
      ]
     },
     "execution_count": 34,
     "metadata": {},
     "output_type": "execute_result"
    }
   ],
   "source": [
    "retweets_df = retweets_freqs.reset_index()\n",
    "retweets_df.columns =  ['userid', 'retweets_count']\n",
    "retweets_df = retweets_df.merge(eg_accounts,on='userid', how='left')\n",
    "retweets_df"
   ]
  },
  {
   "cell_type": "code",
   "execution_count": 39,
   "id": "a99f77e0-8e16-46d3-b593-1765fc05c5ee",
   "metadata": {},
   "outputs": [
    {
     "data": {
      "application/vnd.jupyter.widget-view+json": {
       "model_id": "c92e75366ce741bea6a49f2a82f95c2d",
       "version_major": 2,
       "version_minor": 0
      },
      "text/plain": [
       "interactive(children=(IntSlider(value=10, description='Numeber of retweets per account.', min=5), Output()), _…"
      ]
     },
     "metadata": {},
     "output_type": "display_data"
    }
   ],
   "source": [
    "@interact(num_accounts=widgets.IntSlider(min=5, max=100, step=1, value=10, description='Numeber of retweets per account.'))\n",
    "def interactive_bar_chart(num_accounts):\n",
    "    \n",
    "    top_hundred_words = pd.DataFrame(\n",
    "        {'Account': retweets_df['user_display_name'].head(num_accounts),\n",
    "         'Retweets Count': retweets_df['retweets_count'].head(num_accounts)}\n",
    "    )\n",
    "                                      \n",
    "    top_hundred_words.columns = ['Account', 'Retweets Count']\n",
    "    fig = px.bar(top_hundred_words, x='Account', y='Retweets Count', color='Retweets Count', text='Account', labels={'Retweets Count': 'Retweets Count'},\n",
    "             title=f'Top {num_accounts} most retweeting accounts.')\n",
    "    fig.update_traces(texttemplate='%{text}', textposition='outside')\n",
    "    fig.update_layout(xaxis_title='Accounts', yaxis_title='Retweets Counts', xaxis_tickangle=-45,\n",
    "                      xaxis_tickfont=dict(size=12), yaxis_tickfont=dict(size=12),\n",
    "                      title_font=dict(size=16))\n",
    "    fig.show()"
   ]
  },
  {
   "cell_type": "code",
   "execution_count": null,
   "id": "69e9e4c1-b1b0-4cb9-b1a0-7723d5e357e5",
   "metadata": {},
   "outputs": [],
   "source": [
    "import networkx as nx\n",
    "import plotly.graph_objs as go\n",
    "from plotly.offline import init_notebook_mode, iplot\n",
    "\n",
    "# Initialize Plotly in Jupyter Notebook\n",
    "init_notebook_mode(connected=True)\n",
    "\n",
    "# Sample data: Edges represent interactions between accounts\n",
    "edges = [\n",
    "    ('user1', 'user2'),\n",
    "    ('user2', 'user3'),\n",
    "    ('user3', 'user1'),\n",
    "    ('user4', 'user1'),\n",
    "    ('user4', 'user2'),\n",
    "]\n",
    "\n",
    "# Create a directed graph from the edges\n",
    "G = nx.DiGraph()\n",
    "G.add_edges_from(edges)\n",
    "\n",
    "# Define layout\n",
    "layout = nx.spring_layout(G)\n",
    "\n",
    "# Create nodes and edges for Plotly visualization\n",
    "node_trace = go.Scatter(\n",
    "    x=[layout[k][0] for k in G.nodes()],\n",
    "    y=[layout[k][1] for k in G.nodes()],\n",
    "    text=list(G.nodes()),\n",
    "    mode='markers+text',\n",
    "    hoverinfo='text',\n",
    "    marker=dict(size=20),  # Increase the size of the nodes\n",
    ")\n",
    "\n",
    "edge_trace = go.Scatter(\n",
    "    x=[layout[e[0]][0] for e in G.edges()],\n",
    "    y=[layout[e[0]][1] for e in G.edges()],\n",
    "    line=dict(width=0.5, color='#888'),\n",
    "    hoverinfo='none',\n",
    "    mode='lines',\n",
    ")\n",
    "\n",
    "# Create Plotly figure\n",
    "fig = go.Figure(\n",
    "    data=[edge_trace, node_trace],\n",
    "    layout=go.Layout(\n",
    "        showlegend=False,\n",
    "        hovermode='closest',\n",
    "        margin=dict(b=0, l=0, r=0, t=0),\n",
    "    ),\n",
    ")\n",
    "\n",
    "# Display the interactive visualization in the Jupyter Notebook\n",
    "iplot(fig)\n"
   ]
  },
  {
   "cell_type": "code",
   "execution_count": null,
   "id": "2d4f6988-2555-4d2f-84c6-74410d78e0b7",
   "metadata": {},
   "outputs": [],
   "source": [
    "graph = nx.Graph()"
   ]
  },
  {
   "cell_type": "code",
   "execution_count": null,
   "id": "7d3197fa-4e85-4b89-9338-e587daa3c947",
   "metadata": {},
   "outputs": [],
   "source": [
    "graph.add_nodes_from([(1, {\"color\":\"red\"})])"
   ]
  },
  {
   "cell_type": "code",
   "execution_count": null,
   "id": "bbe72b88-1a34-4064-8401-30b79da0b51b",
   "metadata": {},
   "outputs": [],
   "source": [
    "agg_freqs[180:190]"
   ]
  },
  {
   "cell_type": "code",
   "execution_count": null,
   "id": "cc17a421-bc2d-4511-ade3-79d0c942f629",
   "metadata": {},
   "outputs": [],
   "source": [
    "accounts.head()"
   ]
  },
  {
   "cell_type": "code",
   "execution_count": null,
   "id": "2b733a27-e2a9-4a0e-ab52-18ef74aaa723",
   "metadata": {},
   "outputs": [],
   "source": [
    "accounts['user_profile_url'].notna()"
   ]
  },
  {
   "cell_type": "code",
   "execution_count": null,
   "id": "2cfc81ed-91cf-4439-a674-47bb811626fe",
   "metadata": {},
   "outputs": [],
   "source": [
    "accounts['user_profile_url'].loc[accounts['user_profile_url'] != NaN]"
   ]
  },
  {
   "cell_type": "code",
   "execution_count": null,
   "id": "11470241-397f-4ddf-9fd3-b7e0fc9a9743",
   "metadata": {},
   "outputs": [],
   "source": [
    "accounts.loc[accounts['account_creation_date'] >= \"2019-01-01\"].count()"
   ]
  },
  {
   "cell_type": "code",
   "execution_count": null,
   "id": "62f5abdf-8bce-4491-b801-74b688a6c717",
   "metadata": {},
   "outputs": [],
   "source": [
    "eg_acc = pd.read_csv('data/hashed_2020_04_egypt_022020_egypt_022020_users_csv_hashed/egypt_022020_users_csv_hashed.csv')"
   ]
  },
  {
   "cell_type": "code",
   "execution_count": null,
   "id": "46bf1087-aac5-4538-818c-56322dd2b41c",
   "metadata": {},
   "outputs": [],
   "source": [
    "eg_acc.loc[eg_acc['userid'] =='CTky7SvC51cUfDgM9ljMTPhcc2HcH84VC5ivPh+w5hM']"
   ]
  },
  {
   "cell_type": "code",
   "execution_count": null,
   "id": "305712bc-eee0-459e-bf9b-66aea5885a83",
   "metadata": {},
   "outputs": [],
   "source": []
  }
 ],
 "metadata": {
  "kernelspec": {
   "display_name": "Python 3 (ipykernel)",
   "language": "python",
   "name": "python3"
  },
  "language_info": {
   "codemirror_mode": {
    "name": "ipython",
    "version": 3
   },
   "file_extension": ".py",
   "mimetype": "text/x-python",
   "name": "python",
   "nbconvert_exporter": "python",
   "pygments_lexer": "ipython3",
   "version": "3.11.4"
  }
 },
 "nbformat": 4,
 "nbformat_minor": 5
}
